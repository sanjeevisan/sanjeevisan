{
  "nbformat": 4,
  "nbformat_minor": 0,
  "metadata": {
    "colab": {
      "name": "CRUD operation.ipynb",
      "provenance": [],
      "authorship_tag": "ABX9TyOgeDc8QVbSKRxLRj1s40K0",
      "include_colab_link": true
    },
    "kernelspec": {
      "name": "python3",
      "display_name": "Python 3"
    },
    "language_info": {
      "name": "python"
    }
  },
  "cells": [
    {
      "cell_type": "markdown",
      "metadata": {
        "id": "view-in-github",
        "colab_type": "text"
      },
      "source": [
        "<a href=\"https://colab.research.google.com/github/sanjeevisan/sanjeevisan/blob/main/CRUD_operation.ipynb\" target=\"_parent\"><img src=\"https://colab.research.google.com/assets/colab-badge.svg\" alt=\"Open In Colab\"/></a>"
      ]
    },
    {
      "cell_type": "code",
      "execution_count": null,
      "metadata": {
        "colab": {
          "base_uri": "https://localhost:8080/"
        },
        "id": "cN4JrI6e4oMl",
        "outputId": "5be5d348-5661-4218-9280-c8abbb327142"
      },
      "outputs": [
        {
          "output_type": "stream",
          "name": "stdout",
          "text": [
            "Collecting dnspython\n",
            "  Downloading dnspython-2.2.0-py3-none-any.whl (266 kB)\n",
            "\u001b[?25l\r\u001b[K     |█▎                              | 10 kB 18.5 MB/s eta 0:00:01\r\u001b[K     |██▌                             | 20 kB 23.7 MB/s eta 0:00:01\r\u001b[K     |███▊                            | 30 kB 20.6 MB/s eta 0:00:01\r\u001b[K     |█████                           | 40 kB 8.2 MB/s eta 0:00:01\r\u001b[K     |██████▏                         | 51 kB 6.4 MB/s eta 0:00:01\r\u001b[K     |███████▍                        | 61 kB 7.4 MB/s eta 0:00:01\r\u001b[K     |████████▋                       | 71 kB 8.4 MB/s eta 0:00:01\r\u001b[K     |█████████▉                      | 81 kB 8.5 MB/s eta 0:00:01\r\u001b[K     |███████████                     | 92 kB 9.3 MB/s eta 0:00:01\r\u001b[K     |████████████▎                   | 102 kB 8.6 MB/s eta 0:00:01\r\u001b[K     |█████████████▌                  | 112 kB 8.6 MB/s eta 0:00:01\r\u001b[K     |██████████████▊                 | 122 kB 8.6 MB/s eta 0:00:01\r\u001b[K     |████████████████                | 133 kB 8.6 MB/s eta 0:00:01\r\u001b[K     |█████████████████▏              | 143 kB 8.6 MB/s eta 0:00:01\r\u001b[K     |██████████████████▍             | 153 kB 8.6 MB/s eta 0:00:01\r\u001b[K     |███████████████████▋            | 163 kB 8.6 MB/s eta 0:00:01\r\u001b[K     |████████████████████▉           | 174 kB 8.6 MB/s eta 0:00:01\r\u001b[K     |██████████████████████          | 184 kB 8.6 MB/s eta 0:00:01\r\u001b[K     |███████████████████████▎        | 194 kB 8.6 MB/s eta 0:00:01\r\u001b[K     |████████████████████████▌       | 204 kB 8.6 MB/s eta 0:00:01\r\u001b[K     |█████████████████████████▊      | 215 kB 8.6 MB/s eta 0:00:01\r\u001b[K     |███████████████████████████     | 225 kB 8.6 MB/s eta 0:00:01\r\u001b[K     |████████████████████████████▎   | 235 kB 8.6 MB/s eta 0:00:01\r\u001b[K     |█████████████████████████████▌  | 245 kB 8.6 MB/s eta 0:00:01\r\u001b[K     |██████████████████████████████▊ | 256 kB 8.6 MB/s eta 0:00:01\r\u001b[K     |████████████████████████████████| 266 kB 8.6 MB/s eta 0:00:01\r\u001b[K     |████████████████████████████████| 266 kB 8.6 MB/s \n",
            "\u001b[?25hInstalling collected packages: dnspython\n",
            "Successfully installed dnspython-2.2.0\n",
            "/bin/bash: - : invalid option\n",
            "Usage:\t/bin/bash [GNU long option] [option] ...\n",
            "\t/bin/bash [GNU long option] [option] script-file ...\n",
            "GNU long options:\n",
            "\t--debug\n",
            "\t--debugger\n",
            "\t--dump-po-strings\n",
            "\t--dump-strings\n",
            "\t--help\n",
            "\t--init-file\n",
            "\t--login\n",
            "\t--noediting\n",
            "\t--noprofile\n",
            "\t--norc\n",
            "\t--posix\n",
            "\t--rcfile\n",
            "\t--restricted\n",
            "\t--verbose\n",
            "\t--version\n",
            "Shell options:\n",
            "\t-ilrsD or -c command or -O shopt_option\t\t(invocation only)\n",
            "\t-abefhkmnptuvxBCHP or -o option\n"
          ]
        }
      ],
      "source": [
        "!pip install dnspython\n",
        "!-m pip install pymongo[srv]"
      ]
    },
    {
      "cell_type": "code",
      "source": [
        "import pymongo\n",
        "from pymongo import MongoClient\n",
        "\n",
        "client = pymongo.MongoClient(\"mongodb+srv://<user>:<password>@cluster0.fmnez.mongodb.net/myFirstDatabase?retryWrites=true&w=majority\")\n",
        "db = client.sanjeevi\n",
        "print(\"Enter 1 to create\")\n",
        "print(\"Enter 2 to Read\")\n",
        "print(\"Enter 3 to Update\")\n",
        "print(\"Enter 4 to Delete\")\n",
        "Num=int(input())\n",
        "phone=db.crud\n",
        "if Num==1:\n",
        "  cr={\"name\":input(\"Name: \" ),\"number\":int(input(\"Mobile_Number: \" )),\"Place\":input(\"Place: \")}\n",
        "  phone.insert_one(cr)\n",
        "if Num==2:\n",
        "  phone.find({ \"name\":input() })\n",
        "if Num==3:\n",
        "  phone.update_one({\"name\":input('name: ')}, {\"$set\":{\"name\":input('newname: ')}})\n",
        "if Num==4:\n",
        "   a=phone.delete_one({\"name\":input(\"Name: \")})\n",
        "   print(a.deleted_count,\"Deleted\")"
      ],
      "metadata": {
        "colab": {
          "base_uri": "https://localhost:8080/"
        },
        "id": "ZDbYFe2S5BI_",
        "outputId": "d66c48d8-2a6e-4b32-e0c6-2844c27d68ce"
      },
      "execution_count": null,
      "outputs": [
        {
          "name": "stdout",
          "output_type": "stream",
          "text": [
            "Enter 1 to create\n",
            "Enter 2 to Read\n",
            "Enter 3 to Update\n",
            "Enter 4 to Delete\n",
            "2\n",
            "sanju\n"
          ]
        }
      ]
    }
  ]
}